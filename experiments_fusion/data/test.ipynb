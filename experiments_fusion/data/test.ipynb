{
 "cells": [
  {
   "cell_type": "code",
   "execution_count": 25,
   "metadata": {},
   "outputs": [],
   "source": [
    "from custom_dataset import Custom_datasets\n",
    "import glob\n",
    "import os\n",
    "from torch.utils.data import DataLoader\n",
    "\n",
    "data_lst = sorted(glob.glob(os.path.join('/media/data1/celebA_processed/CelebA-HQ-img/', '*')))\n",
    "train_lst = data_lst[:int(len(data_lst)*0.7)]\n",
    "valid_lst = data_lst[int(len(data_lst)*0.7):int(len(data_lst)*0.9)]\n",
    "test_lst = data_lst[int(len(data_lst)*0.9):]\n",
    "\n",
    "train = DataLoader(Custom_datasets(train_lst), batch_size=16)\n",
    "\n",
    "for x,y in train:\n",
    "    break"
   ]
  },
  {
   "cell_type": "code",
   "execution_count": 33,
   "metadata": {},
   "outputs": [
    {
     "name": "stderr",
     "output_type": "stream",
     "text": [
      "/home/inho/anaconda3/envs/df_detection/lib/python3.7/site-packages/timm/models/_factory.py:118: UserWarning: Mapping deprecated model name xception to current legacy_xception.\n",
      "  **kwargs,\n"
     ]
    },
    {
     "name": "stdout",
     "output_type": "stream",
     "text": [
      "----------------------------------------------------------------\n",
      "        Layer (type)               Output Shape         Param #\n",
      "================================================================\n",
      "            Conv2d-1         [-1, 32, 149, 149]             864\n",
      "       BatchNorm2d-2         [-1, 32, 149, 149]              64\n",
      "              ReLU-3         [-1, 32, 149, 149]               0\n",
      "            Conv2d-4         [-1, 64, 147, 147]          18,432\n",
      "       BatchNorm2d-5         [-1, 64, 147, 147]             128\n",
      "              ReLU-6         [-1, 64, 147, 147]               0\n",
      "            Conv2d-7         [-1, 64, 147, 147]             576\n",
      "            Conv2d-8        [-1, 128, 147, 147]           8,192\n",
      "   SeparableConv2d-9        [-1, 128, 147, 147]               0\n",
      "      BatchNorm2d-10        [-1, 128, 147, 147]             256\n",
      "             ReLU-11        [-1, 128, 147, 147]               0\n",
      "           Conv2d-12        [-1, 128, 147, 147]           1,152\n",
      "           Conv2d-13        [-1, 128, 147, 147]          16,384\n",
      "  SeparableConv2d-14        [-1, 128, 147, 147]               0\n",
      "      BatchNorm2d-15        [-1, 128, 147, 147]             256\n",
      "        MaxPool2d-16          [-1, 128, 74, 74]               0\n",
      "           Conv2d-17          [-1, 128, 74, 74]           8,192\n",
      "      BatchNorm2d-18          [-1, 128, 74, 74]             256\n",
      "            Block-19          [-1, 128, 74, 74]               0\n",
      "             ReLU-20          [-1, 128, 74, 74]               0\n",
      "           Conv2d-21          [-1, 128, 74, 74]           1,152\n",
      "           Conv2d-22          [-1, 256, 74, 74]          32,768\n",
      "  SeparableConv2d-23          [-1, 256, 74, 74]               0\n",
      "      BatchNorm2d-24          [-1, 256, 74, 74]             512\n",
      "             ReLU-25          [-1, 256, 74, 74]               0\n",
      "           Conv2d-26          [-1, 256, 74, 74]           2,304\n",
      "           Conv2d-27          [-1, 256, 74, 74]          65,536\n",
      "  SeparableConv2d-28          [-1, 256, 74, 74]               0\n",
      "      BatchNorm2d-29          [-1, 256, 74, 74]             512\n",
      "        MaxPool2d-30          [-1, 256, 37, 37]               0\n",
      "           Conv2d-31          [-1, 256, 37, 37]          32,768\n",
      "      BatchNorm2d-32          [-1, 256, 37, 37]             512\n",
      "            Block-33          [-1, 256, 37, 37]               0\n",
      "             ReLU-34          [-1, 256, 37, 37]               0\n",
      "           Conv2d-35          [-1, 256, 37, 37]           2,304\n",
      "           Conv2d-36          [-1, 728, 37, 37]         186,368\n",
      "  SeparableConv2d-37          [-1, 728, 37, 37]               0\n",
      "      BatchNorm2d-38          [-1, 728, 37, 37]           1,456\n",
      "             ReLU-39          [-1, 728, 37, 37]               0\n",
      "           Conv2d-40          [-1, 728, 37, 37]           6,552\n",
      "           Conv2d-41          [-1, 728, 37, 37]         529,984\n",
      "  SeparableConv2d-42          [-1, 728, 37, 37]               0\n",
      "      BatchNorm2d-43          [-1, 728, 37, 37]           1,456\n",
      "        MaxPool2d-44          [-1, 728, 19, 19]               0\n",
      "           Conv2d-45          [-1, 728, 19, 19]         186,368\n",
      "      BatchNorm2d-46          [-1, 728, 19, 19]           1,456\n",
      "            Block-47          [-1, 728, 19, 19]               0\n",
      "             ReLU-48          [-1, 728, 19, 19]               0\n",
      "           Conv2d-49          [-1, 728, 19, 19]           6,552\n",
      "           Conv2d-50          [-1, 728, 19, 19]         529,984\n",
      "  SeparableConv2d-51          [-1, 728, 19, 19]               0\n",
      "      BatchNorm2d-52          [-1, 728, 19, 19]           1,456\n",
      "             ReLU-53          [-1, 728, 19, 19]               0\n",
      "           Conv2d-54          [-1, 728, 19, 19]           6,552\n",
      "           Conv2d-55          [-1, 728, 19, 19]         529,984\n",
      "  SeparableConv2d-56          [-1, 728, 19, 19]               0\n",
      "      BatchNorm2d-57          [-1, 728, 19, 19]           1,456\n",
      "             ReLU-58          [-1, 728, 19, 19]               0\n",
      "           Conv2d-59          [-1, 728, 19, 19]           6,552\n",
      "           Conv2d-60          [-1, 728, 19, 19]         529,984\n",
      "  SeparableConv2d-61          [-1, 728, 19, 19]               0\n",
      "      BatchNorm2d-62          [-1, 728, 19, 19]           1,456\n",
      "            Block-63          [-1, 728, 19, 19]               0\n",
      "             ReLU-64          [-1, 728, 19, 19]               0\n",
      "           Conv2d-65          [-1, 728, 19, 19]           6,552\n",
      "           Conv2d-66          [-1, 728, 19, 19]         529,984\n",
      "  SeparableConv2d-67          [-1, 728, 19, 19]               0\n",
      "      BatchNorm2d-68          [-1, 728, 19, 19]           1,456\n",
      "             ReLU-69          [-1, 728, 19, 19]               0\n",
      "           Conv2d-70          [-1, 728, 19, 19]           6,552\n",
      "           Conv2d-71          [-1, 728, 19, 19]         529,984\n",
      "  SeparableConv2d-72          [-1, 728, 19, 19]               0\n",
      "      BatchNorm2d-73          [-1, 728, 19, 19]           1,456\n",
      "             ReLU-74          [-1, 728, 19, 19]               0\n",
      "           Conv2d-75          [-1, 728, 19, 19]           6,552\n",
      "           Conv2d-76          [-1, 728, 19, 19]         529,984\n",
      "  SeparableConv2d-77          [-1, 728, 19, 19]               0\n",
      "      BatchNorm2d-78          [-1, 728, 19, 19]           1,456\n",
      "            Block-79          [-1, 728, 19, 19]               0\n",
      "             ReLU-80          [-1, 728, 19, 19]               0\n",
      "           Conv2d-81          [-1, 728, 19, 19]           6,552\n",
      "           Conv2d-82          [-1, 728, 19, 19]         529,984\n",
      "  SeparableConv2d-83          [-1, 728, 19, 19]               0\n",
      "      BatchNorm2d-84          [-1, 728, 19, 19]           1,456\n",
      "             ReLU-85          [-1, 728, 19, 19]               0\n",
      "           Conv2d-86          [-1, 728, 19, 19]           6,552\n",
      "           Conv2d-87          [-1, 728, 19, 19]         529,984\n",
      "  SeparableConv2d-88          [-1, 728, 19, 19]               0\n",
      "      BatchNorm2d-89          [-1, 728, 19, 19]           1,456\n",
      "             ReLU-90          [-1, 728, 19, 19]               0\n",
      "           Conv2d-91          [-1, 728, 19, 19]           6,552\n",
      "           Conv2d-92          [-1, 728, 19, 19]         529,984\n",
      "  SeparableConv2d-93          [-1, 728, 19, 19]               0\n",
      "      BatchNorm2d-94          [-1, 728, 19, 19]           1,456\n",
      "            Block-95          [-1, 728, 19, 19]               0\n",
      "             ReLU-96          [-1, 728, 19, 19]               0\n",
      "           Conv2d-97          [-1, 728, 19, 19]           6,552\n",
      "           Conv2d-98          [-1, 728, 19, 19]         529,984\n",
      "  SeparableConv2d-99          [-1, 728, 19, 19]               0\n",
      "     BatchNorm2d-100          [-1, 728, 19, 19]           1,456\n",
      "            ReLU-101          [-1, 728, 19, 19]               0\n",
      "          Conv2d-102          [-1, 728, 19, 19]           6,552\n",
      "          Conv2d-103          [-1, 728, 19, 19]         529,984\n",
      " SeparableConv2d-104          [-1, 728, 19, 19]               0\n",
      "     BatchNorm2d-105          [-1, 728, 19, 19]           1,456\n",
      "            ReLU-106          [-1, 728, 19, 19]               0\n",
      "          Conv2d-107          [-1, 728, 19, 19]           6,552\n",
      "          Conv2d-108          [-1, 728, 19, 19]         529,984\n",
      " SeparableConv2d-109          [-1, 728, 19, 19]               0\n",
      "     BatchNorm2d-110          [-1, 728, 19, 19]           1,456\n",
      "           Block-111          [-1, 728, 19, 19]               0\n",
      "            ReLU-112          [-1, 728, 19, 19]               0\n",
      "          Conv2d-113          [-1, 728, 19, 19]           6,552\n",
      "          Conv2d-114          [-1, 728, 19, 19]         529,984\n",
      " SeparableConv2d-115          [-1, 728, 19, 19]               0\n",
      "     BatchNorm2d-116          [-1, 728, 19, 19]           1,456\n",
      "            ReLU-117          [-1, 728, 19, 19]               0\n",
      "          Conv2d-118          [-1, 728, 19, 19]           6,552\n",
      "          Conv2d-119          [-1, 728, 19, 19]         529,984\n",
      " SeparableConv2d-120          [-1, 728, 19, 19]               0\n",
      "     BatchNorm2d-121          [-1, 728, 19, 19]           1,456\n",
      "            ReLU-122          [-1, 728, 19, 19]               0\n",
      "          Conv2d-123          [-1, 728, 19, 19]           6,552\n",
      "          Conv2d-124          [-1, 728, 19, 19]         529,984\n",
      " SeparableConv2d-125          [-1, 728, 19, 19]               0\n",
      "     BatchNorm2d-126          [-1, 728, 19, 19]           1,456\n",
      "           Block-127          [-1, 728, 19, 19]               0\n",
      "            ReLU-128          [-1, 728, 19, 19]               0\n",
      "          Conv2d-129          [-1, 728, 19, 19]           6,552\n",
      "          Conv2d-130          [-1, 728, 19, 19]         529,984\n",
      " SeparableConv2d-131          [-1, 728, 19, 19]               0\n",
      "     BatchNorm2d-132          [-1, 728, 19, 19]           1,456\n",
      "            ReLU-133          [-1, 728, 19, 19]               0\n",
      "          Conv2d-134          [-1, 728, 19, 19]           6,552\n",
      "          Conv2d-135          [-1, 728, 19, 19]         529,984\n",
      " SeparableConv2d-136          [-1, 728, 19, 19]               0\n",
      "     BatchNorm2d-137          [-1, 728, 19, 19]           1,456\n",
      "            ReLU-138          [-1, 728, 19, 19]               0\n",
      "          Conv2d-139          [-1, 728, 19, 19]           6,552\n",
      "          Conv2d-140          [-1, 728, 19, 19]         529,984\n",
      " SeparableConv2d-141          [-1, 728, 19, 19]               0\n",
      "     BatchNorm2d-142          [-1, 728, 19, 19]           1,456\n",
      "           Block-143          [-1, 728, 19, 19]               0\n",
      "            ReLU-144          [-1, 728, 19, 19]               0\n",
      "          Conv2d-145          [-1, 728, 19, 19]           6,552\n",
      "          Conv2d-146          [-1, 728, 19, 19]         529,984\n",
      " SeparableConv2d-147          [-1, 728, 19, 19]               0\n",
      "     BatchNorm2d-148          [-1, 728, 19, 19]           1,456\n",
      "            ReLU-149          [-1, 728, 19, 19]               0\n",
      "          Conv2d-150          [-1, 728, 19, 19]           6,552\n",
      "          Conv2d-151          [-1, 728, 19, 19]         529,984\n",
      " SeparableConv2d-152          [-1, 728, 19, 19]               0\n",
      "     BatchNorm2d-153          [-1, 728, 19, 19]           1,456\n",
      "            ReLU-154          [-1, 728, 19, 19]               0\n",
      "          Conv2d-155          [-1, 728, 19, 19]           6,552\n",
      "          Conv2d-156          [-1, 728, 19, 19]         529,984\n",
      " SeparableConv2d-157          [-1, 728, 19, 19]               0\n",
      "     BatchNorm2d-158          [-1, 728, 19, 19]           1,456\n",
      "           Block-159          [-1, 728, 19, 19]               0\n",
      "            ReLU-160          [-1, 728, 19, 19]               0\n",
      "          Conv2d-161          [-1, 728, 19, 19]           6,552\n",
      "          Conv2d-162          [-1, 728, 19, 19]         529,984\n",
      " SeparableConv2d-163          [-1, 728, 19, 19]               0\n",
      "     BatchNorm2d-164          [-1, 728, 19, 19]           1,456\n",
      "            ReLU-165          [-1, 728, 19, 19]               0\n",
      "          Conv2d-166          [-1, 728, 19, 19]           6,552\n",
      "          Conv2d-167          [-1, 728, 19, 19]         529,984\n",
      " SeparableConv2d-168          [-1, 728, 19, 19]               0\n",
      "     BatchNorm2d-169          [-1, 728, 19, 19]           1,456\n",
      "            ReLU-170          [-1, 728, 19, 19]               0\n",
      "          Conv2d-171          [-1, 728, 19, 19]           6,552\n",
      "          Conv2d-172          [-1, 728, 19, 19]         529,984\n",
      " SeparableConv2d-173          [-1, 728, 19, 19]               0\n",
      "     BatchNorm2d-174          [-1, 728, 19, 19]           1,456\n",
      "           Block-175          [-1, 728, 19, 19]               0\n",
      "            ReLU-176          [-1, 728, 19, 19]               0\n",
      "          Conv2d-177          [-1, 728, 19, 19]           6,552\n",
      "          Conv2d-178          [-1, 728, 19, 19]         529,984\n",
      " SeparableConv2d-179          [-1, 728, 19, 19]               0\n",
      "     BatchNorm2d-180          [-1, 728, 19, 19]           1,456\n",
      "            ReLU-181          [-1, 728, 19, 19]               0\n",
      "          Conv2d-182          [-1, 728, 19, 19]           6,552\n",
      "          Conv2d-183         [-1, 1024, 19, 19]         745,472\n",
      " SeparableConv2d-184         [-1, 1024, 19, 19]               0\n",
      "     BatchNorm2d-185         [-1, 1024, 19, 19]           2,048\n",
      "       MaxPool2d-186         [-1, 1024, 10, 10]               0\n",
      "          Conv2d-187         [-1, 1024, 10, 10]         745,472\n",
      "     BatchNorm2d-188         [-1, 1024, 10, 10]           2,048\n",
      "           Block-189         [-1, 1024, 10, 10]               0\n",
      "          Conv2d-190         [-1, 1024, 10, 10]           9,216\n",
      "          Conv2d-191         [-1, 1536, 10, 10]       1,572,864\n",
      " SeparableConv2d-192         [-1, 1536, 10, 10]               0\n",
      "     BatchNorm2d-193         [-1, 1536, 10, 10]           3,072\n",
      "            ReLU-194         [-1, 1536, 10, 10]               0\n",
      "          Conv2d-195         [-1, 1536, 10, 10]          13,824\n",
      "          Conv2d-196         [-1, 2048, 10, 10]       3,145,728\n",
      " SeparableConv2d-197         [-1, 2048, 10, 10]               0\n",
      "     BatchNorm2d-198         [-1, 2048, 10, 10]           4,096\n",
      "            ReLU-199         [-1, 2048, 10, 10]               0\n",
      "AdaptiveAvgPool2d-200           [-1, 2048, 1, 1]               0\n",
      "         Flatten-201                 [-1, 2048]               0\n",
      "SelectAdaptivePool2d-202                 [-1, 2048]               0\n",
      "          Linear-203                 [-1, 1000]       2,049,000\n",
      "================================================================\n",
      "Total params: 22,855,952\n",
      "Trainable params: 22,855,952\n",
      "Non-trainable params: 0\n",
      "----------------------------------------------------------------\n",
      "Input size (MB): 1.02\n",
      "Forward/backward pass size (MB): 725.04\n",
      "Params size (MB): 87.19\n",
      "Estimated Total Size (MB): 813.25\n",
      "----------------------------------------------------------------\n"
     ]
    }
   ],
   "source": [
    "from torchsummary import summary\n",
    "import timm\n",
    "\n",
    "model = timm.create_model('xception')\n",
    "summary(model.to('cuda'), (3,299,299))"
   ]
  },
  {
   "cell_type": "code",
   "execution_count": 49,
   "metadata": {},
   "outputs": [
    {
     "data": {
      "text/plain": [
       "<AxesSubplot:ylabel='Count'>"
      ]
     },
     "execution_count": 49,
     "metadata": {},
     "output_type": "execute_result"
    },
    {
     "data": {
      "image/png": "[encoded data removed]",
      "text/plain": [
       "<Figure size 640x480 with 1 Axes>"
      ]
     },
     "metadata": {},
     "output_type": "display_data"
    }
   ],
   "source": [
    "import numpy as np\n",
    "import seaborn as sns\n",
    "\n",
    "sns.histplot(np.random.normal(0,100,2048))"
   ]
  },
  {
   "cell_type": "code",
   "execution_count": 50,
   "metadata": {},
   "outputs": [
    {
     "data": {
      "text/plain": [
       "[1, 2, 3, 4, 5, 6, 7, 8, 9]"
      ]
     },
     "execution_count": 50,
     "metadata": {},
     "output_type": "execute_result"
    }
   ],
   "source": [
    "import itertools\n",
    "\n",
    "double_list = [[1, 2, 3], [4, 5, 6], [7, 8, 9]]\n",
    "flatten_list = list(itertools.chain.from_iterable(double_list))\n",
    "flatten_list"
   ]
  },
  {
   "cell_type": "code",
   "execution_count": 53,
   "metadata": {},
   "outputs": [
    {
     "ename": "TypeError",
     "evalue": "cat(): argument 'tensors' (position 1) must be tuple of Tensors, not Tensor",
     "output_type": "error",
     "traceback": [
      "\u001b[0;31m---------------------------------------------------------------------------\u001b[0m",
      "\u001b[0;31mTypeError\u001b[0m                                 Traceback (most recent call last)",
      "\u001b[0;32m/tmp/ipykernel_70458/2476097102.py\u001b[0m in \u001b[0;36m<module>\u001b[0;34m\u001b[0m\n\u001b[1;32m      2\u001b[0m \u001b[0mx\u001b[0m \u001b[0;34m=\u001b[0m \u001b[0mtorch\u001b[0m\u001b[0;34m.\u001b[0m\u001b[0mtensor\u001b[0m\u001b[0;34m(\u001b[0m\u001b[0;34m[\u001b[0m\u001b[0;34m[\u001b[0m\u001b[0;36m1\u001b[0m\u001b[0;34m,\u001b[0m \u001b[0;36m2\u001b[0m\u001b[0;34m]\u001b[0m\u001b[0;34m,\u001b[0m \u001b[0;34m[\u001b[0m\u001b[0;36m3\u001b[0m\u001b[0;34m,\u001b[0m \u001b[0;36m4\u001b[0m\u001b[0;34m]\u001b[0m\u001b[0;34m]\u001b[0m\u001b[0;34m)\u001b[0m\u001b[0;34m\u001b[0m\u001b[0;34m\u001b[0m\u001b[0m\n\u001b[1;32m      3\u001b[0m \u001b[0;34m\u001b[0m\u001b[0m\n\u001b[0;32m----> 4\u001b[0;31m \u001b[0mtorch\u001b[0m\u001b[0;34m.\u001b[0m\u001b[0mcat\u001b[0m\u001b[0;34m(\u001b[0m\u001b[0mx\u001b[0m\u001b[0;34m)\u001b[0m\u001b[0;34m\u001b[0m\u001b[0;34m\u001b[0m\u001b[0m\n\u001b[0m",
      "\u001b[0;31mTypeError\u001b[0m: cat(): argument 'tensors' (position 1) must be tuple of Tensors, not Tensor"
     ]
    }
   ],
   "source": [
    "model.eval()\n",
    "z_ = []\n",
    "with torch.no_grad():\n",
    "    for x, _ in dataloader:\n",
    "        x = x.float().to(self.device)\n",
    "        z = model.encode(x)\n",
    "        z_.append(z.detach()) # z_.shape = [iteration횟수 * batch, 벡터의 차원]\n",
    "z_ = torch.cat(z_)"
   ]
  },
  {
   "cell_type": "code",
   "execution_count": 106,
   "metadata": {},
   "outputs": [],
   "source": [
    "eps = 0.1\n",
    "z_ = []\n",
    "for i in range(100):\n",
    "    z = np.random.normal(0,1,2048)\n",
    "    z_.append(z)\n",
    "z_ = np.array(z_)\n",
    "c = np.mean(z_, axis=0) # 각 원소의 평균 값이 나옴(512)\n",
    "c[(abs(c) < eps) & (c < 0)] = -eps\n",
    "c[(abs(c) < eps) & (c > 0)] = eps\n",
    "# return c"
   ]
  },
  {
   "cell_type": "code",
   "execution_count": 108,
   "metadata": {},
   "outputs": [
    {
     "data": {
      "text/plain": [
       "array([ 0.92631013, -0.22968164,  0.48048962, ..., -0.48315193,\n",
       "       -0.91726963, -0.75060971])"
      ]
     },
     "execution_count": 108,
     "metadata": {},
     "output_type": "execute_result"
    }
   ],
   "source": [
    "z"
   ]
  },
  {
   "cell_type": "code",
   "execution_count": 107,
   "metadata": {},
   "outputs": [
    {
     "data": {
      "text/plain": [
       "<AxesSubplot:ylabel='Count'>"
      ]
     },
     "execution_count": 107,
     "metadata": {},
     "output_type": "execute_result"
    },
    {
     "data": {
      "image/png": "[encoded data removed]",
      "text/plain": [
       "<Figure size 640x480 with 1 Axes>"
      ]
     },
     "metadata": {},
     "output_type": "display_data"
    }
   ],
   "source": [
    "sns.histplot(c)"
   ]
  }
 ],
 "metadata": {
  "kernelspec": {
   "display_name": "df_detection",
   "language": "python",
   "name": "python3"
  },
  "language_info": {
   "codemirror_mode": {
    "name": "ipython",
    "version": 3
   },
   "file_extension": ".py",
   "mimetype": "text/x-python",
   "name": "python",
   "nbconvert_exporter": "python",
   "pygments_lexer": "ipython3",
   "version": "3.7.16"
  }
 },
 "nbformat": 4,
 "nbformat_minor": 2
}
